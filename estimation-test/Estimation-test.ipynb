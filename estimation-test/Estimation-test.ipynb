{
 "cells": [
  {
   "cell_type": "code",
   "execution_count": 1,
   "metadata": {
    "collapsed": false
   },
   "outputs": [],
   "source": [
    "%load_ext autoreload\n",
    "%autoreload 2\n",
    "if 'sim' not in globals():\n",
    "    import os; os.chdir('..')\n",
    "import models\n",
    "import urbansim.sim.simulation as sim"
   ]
  },
  {
   "cell_type": "code",
   "execution_count": 2,
   "metadata": {
    "collapsed": false,
    "scrolled": true
   },
   "outputs": [],
   "source": [
    "%%capture\n",
    "sim.run([\"neighborhood_vars\"])"
   ]
  },
  {
   "cell_type": "code",
   "execution_count": 3,
   "metadata": {
    "collapsed": false
   },
   "outputs": [],
   "source": [
    "%%capture\n",
    "sim.run([\"rsh_simulate\", \"nrh_simulate\"])"
   ]
  },
  {
   "cell_type": "markdown",
   "metadata": {},
   "source": [
    "## LCM Estimation"
   ]
  },
  {
   "cell_type": "code",
   "execution_count": 9,
   "metadata": {
    "collapsed": false
   },
   "outputs": [
    {
     "name": "stdout",
     "output_type": "stream",
     "text": [
      "Running model 'hlcm_estimate'\n",
      "LCM RESULTS FOR SEGMENT 1\n",
      "\n",
      "Null Log-liklihood: -64306.596\n",
      "Log-liklihood at convergence: -61140.939\n",
      "Log-liklihood Ratio: 0.049\n",
      "\n",
      "+-----------------------------+-------------+------------+---------+\n",
      "| Component                   | Coefficient | Std. Error | T-Score |\n",
      "+-----------------------------+-------------+------------+---------+\n",
      "| np.log1p(residential_price) |    0.262    |   0.021    |  12.427 |\n",
      "| sum_residential_units       |    0.605    |   0.010    |  58.436 |\n",
      "| ave_income                  |    -0.573   |   0.012    | -48.729 |\n",
      "| autoPeakTotal               |    -0.102   |   0.012    |  -8.373 |\n",
      "+-----------------------------+-------------+------------+---------+\n",
      "LCM RESULTS FOR SEGMENT 2\n",
      "\n",
      "Null Log-liklihood: -67972.312\n",
      "Log-liklihood at convergence: -66369.044\n",
      "Log-liklihood Ratio: 0.024\n",
      "\n",
      "+-----------------------------+-------------+------------+---------+\n",
      "| Component                   | Coefficient | Std. Error | T-Score |\n",
      "+-----------------------------+-------------+------------+---------+\n",
      "| np.log1p(residential_price) |    0.176    |   0.024    |  7.446  |\n",
      "| sum_residential_units       |    0.427    |   0.011    |  40.254 |\n",
      "| ave_income                  |    -0.367   |   0.013    | -29.223 |\n",
      "| autoPeakTotal               |    -0.075   |   0.013    |  -5.949 |\n",
      "+-----------------------------+-------------+------------+---------+\n",
      "LCM RESULTS FOR SEGMENT 3\n",
      "\n",
      "Null Log-liklihood: -68032.179\n",
      "Log-liklihood at convergence: -67521.163\n",
      "Log-liklihood Ratio: 0.008\n",
      "\n",
      "+-----------------------------+-------------+------------+---------+\n",
      "| Component                   | Coefficient | Std. Error | T-Score |\n",
      "+-----------------------------+-------------+------------+---------+\n",
      "| np.log1p(residential_price) |    0.096    |   0.027    |  3.619  |\n",
      "| sum_residential_units       |    0.240    |   0.010    |  22.976 |\n",
      "| ave_income                  |    -0.041   |   0.013    |  -3.076 |\n",
      "| autoPeakTotal               |    -0.006   |   0.013    |  -0.439 |\n",
      "+-----------------------------+-------------+------------+---------+\n",
      "LCM RESULTS FOR SEGMENT 4\n",
      "\n",
      "Null Log-liklihood: -68165.729\n",
      "Log-liklihood at convergence: -66395.705\n",
      "Log-liklihood Ratio: 0.026\n",
      "\n",
      "+-----------------------------+-------------+------------+---------+\n",
      "| Component                   | Coefficient | Std. Error | T-Score |\n",
      "+-----------------------------+-------------+------------+---------+\n",
      "| np.log1p(residential_price) |    0.100    |   0.027    |  3.755  |\n",
      "| sum_residential_units       |    0.236    |   0.010    |  24.340 |\n",
      "| ave_income                  |    1.467    |   0.014    | 105.578 |\n",
      "| autoPeakTotal               |    0.066    |   0.014    |  4.859  |\n",
      "+-----------------------------+-------------+------------+---------+\n",
      "Time to execute model 'hlcm_estimate': 17699.23s\n",
      "Total time to execute: 17699.23s\n",
      " \n",
      "*** Profile stats marshalled to file u'hlcm_estimate.prof'. \n"
     ]
    }
   ],
   "source": [
    "# %%prun -q -D hlcm_estimate.prof\n",
    "# sim.run([\"hlcm_estimate\"])\n",
    "\n",
    "# 15,000 choosers; 100 alternatives sampled WITHOUT replacement"
   ]
  },
  {
   "cell_type": "code",
   "execution_count": 6,
   "metadata": {
    "collapsed": false
   },
   "outputs": [
    {
     "name": "stdout",
     "output_type": "stream",
     "text": [
      "Running model 'hlcm_estimate'\n",
      "LCM RESULTS FOR SEGMENT 1\n",
      "\n",
      "Null Log-liklihood: -64103.969\n",
      "Log-liklihood at convergence: -60847.916\n",
      "Log-liklihood Ratio: 0.051\n",
      "\n",
      "+-----------------------------+-------------+------------+---------+\n",
      "| Component                   | Coefficient | Std. Error | T-Score |\n",
      "+-----------------------------+-------------+------------+---------+\n",
      "| np.log1p(residential_price) |    0.262    |   0.022    |  12.068 |\n",
      "| sum_residential_units       |    0.601    |   0.011    |  56.772 |\n",
      "| ave_income                  |    -0.561   |   0.012    | -46.277 |\n",
      "| autoPeakTotal               |    -0.062   |   0.013    |  -4.932 |\n",
      "+-----------------------------+-------------+------------+---------+\n",
      "LCM RESULTS FOR SEGMENT 2\n",
      "\n",
      "Null Log-liklihood: -67898.629\n",
      "Log-liklihood at convergence: -66132.547\n",
      "Log-liklihood Ratio: 0.026\n",
      "\n",
      "+-----------------------------+-------------+------------+---------+\n",
      "| Component                   | Coefficient | Std. Error | T-Score |\n",
      "+-----------------------------+-------------+------------+---------+\n",
      "| np.log1p(residential_price) |    0.188    |   0.024    |  7.920  |\n",
      "| sum_residential_units       |    0.455    |   0.011    |  42.602 |\n",
      "| ave_income                  |    -0.385   |   0.012    | -30.796 |\n",
      "| autoPeakTotal               |    -0.090   |   0.013    |  -7.036 |\n",
      "+-----------------------------+-------------+------------+---------+\n",
      "LCM RESULTS FOR SEGMENT 3\n",
      "\n",
      "Null Log-liklihood: -68078.231\n",
      "Log-liklihood at convergence: -67541.626\n",
      "Log-liklihood Ratio: 0.008\n",
      "\n",
      "+-----------------------------+-------------+------------+---------+\n",
      "| Component                   | Coefficient | Std. Error | T-Score |\n",
      "+-----------------------------+-------------+------------+---------+\n",
      "| np.log1p(residential_price) |    0.102    |   0.026    |  3.862  |\n",
      "| sum_residential_units       |    0.255    |   0.010    |  24.267 |\n",
      "| ave_income                  |    -0.021   |   0.013    |  -1.628 |\n",
      "| autoPeakTotal               |    -0.022   |   0.013    |  -1.735 |\n",
      "+-----------------------------+-------------+------------+---------+\n",
      "LCM RESULTS FOR SEGMENT 4\n",
      "\n",
      "Null Log-liklihood: -68225.596\n",
      "Log-liklihood at convergence: -66467.672\n",
      "Log-liklihood Ratio: 0.026\n",
      "\n",
      "+-----------------------------+-------------+------------+---------+\n",
      "| Component                   | Coefficient | Std. Error | T-Score |\n",
      "+-----------------------------+-------------+------------+---------+\n",
      "| np.log1p(residential_price) |    0.103    |   0.026    |  3.918  |\n",
      "| sum_residential_units       |    0.247    |   0.010    |  25.319 |\n",
      "| ave_income                  |    1.467    |   0.014    | 107.419 |\n",
      "| autoPeakTotal               |    0.052    |   0.014    |  3.786  |\n",
      "+-----------------------------+-------------+------------+---------+\n",
      "Time to execute model 'hlcm_estimate': 13.47s\n",
      "Total time to execute: 13.47s\n"
     ]
    }
   ],
   "source": [
    "sim.run([\"hlcm_estimate\"])\n",
    "\n",
    "# 15,000 choosers; 100 alternatives sampled WITH replacement"
   ]
  },
  {
   "cell_type": "code",
   "execution_count": 8,
   "metadata": {
    "collapsed": false
   },
   "outputs": [],
   "source": []
  }
 ],
 "metadata": {
  "kernelspec": {
   "display_name": "Python 2",
   "language": "python",
   "name": "python2"
  },
  "language_info": {
   "codemirror_mode": {
    "name": "ipython",
    "version": 2
   },
   "file_extension": ".py",
   "mimetype": "text/x-python",
   "name": "python",
   "nbconvert_exporter": "python",
   "pygments_lexer": "ipython2",
   "version": "2.7.10"
  }
 },
 "nbformat": 4,
 "nbformat_minor": 0
}
