{
 "cells": [
  {
   "cell_type": "markdown",
   "metadata": {},
   "source": [
    "# Run through an inclusionary example\n",
    "Aksel Olsen\n",
    "January 2015\n",
    "\n",
    "Inclusionary housing means that the developmer, when providing market rate units, must also provide units at specified lower affordability levels, typically entailing a loss for the developer on that portion of the project. In San Francisco, this inclusionary rate is set at 12%, and although there are many footnotes to this (developers can \n",
    "\n",
    "1. choose to pay into a fund, in which case the fee goes up to 15%; \n",
    "1. develop a separate project off-site, but \"close\" to the principal project; or \n",
    "1. provide the units on-site in the principal project. \n",
    "\n",
    "Each jurisdiction does this differently, with different geographies, thresholds and variations, so we chose to set this up as a simple adjustment that could capture the main thrust--inclusionary housing is provided at lower levels of affordability, and, presumably, the overall housing geography / profitability would all other things equal be impacted by the changing fiscal map of development, with higher costs in jurisdictions with these ordinances. The latter requires an accounting of units, preferably in a data model at the scale of each unit, with unit-specific affordability attributes. (An easier way is to just assume that x percent of units built in years where jurisdiction x had an inclusionary ordinance on the books will be available to choosers at a set lower price in the household location choice model.) In either case, this has yet to be done. \n",
    "\n",
    "The implementation is pretty short and is reprinted in this notebook. The main version is stored in `bayarea_urbansim/variables.py`, in a decorated function named `parcel_average_price`. It replaces a function with the same name which is then needed in the feasibility calculation (`run_feasibility`) as invoked in `bayarea_urbansim/models.py`. \n",
    "\n",
    "The standard feasibility calculation uses `parcel_average_price` to know how much revenue would come from a(n in our case) residential project, picking the median from zone-level hedonic estimates. Our tweak is to *keep* this market rate accounting but *in addition* run a separate calculation of what the revenue would be for an inclusionary component of a project if units were sold not at market rates but at prices capped by some relationship to Area Median Income (San Francisco's target is for the 55% of AMI). The output of the function is then just the weighted average of the market-rate (i.e. hedonic-based) and inclusionary components.\n",
    "\n",
    "The adjustment thus simply plugs in to the existing framework and works mainly through the `parcel_average_price` function, with some lookups added to make AMI levels visible. For county-level revenue levels, as a proxy we used HUD's county level 50% AMI levels and from these assumed 30% would be used on housing per month. "
   ]
  },
  {
   "cell_type": "code",
   "execution_count": 1,
   "metadata": {
    "collapsed": true
   },
   "outputs": [],
   "source": [
    "import pandas as pd\n",
    "import numpy as np"
   ]
  },
  {
   "cell_type": "code",
   "execution_count": 3,
   "metadata": {
    "collapsed": false
   },
   "outputs": [
    {
     "name": "stdout",
     "output_type": "stream",
     "text": [
      "Populating the interactive namespace from numpy and matplotlib\n"
     ]
    }
   ],
   "source": [
    "## plotting batteries\n",
    "%pylab inline\n",
    "import seaborn as sns\n",
    "import matplotlib.pyplot as plt\n",
    "import matplotlib.cm as cm, matplotlib.font_manager as fm\n",
    "#pd.options.display.mpl_style = 'default'\n",
    "rcParams['figure.figsize'] = 12, 7\n",
    "sns.set(style=\"darkgrid\")"
   ]
  },
  {
   "cell_type": "code",
   "execution_count": 4,
   "metadata": {
    "collapsed": false
   },
   "outputs": [
    {
     "name": "stderr",
     "output_type": "stream",
     "text": [
      "/home/aksel/env/lib/python2.7/site-packages/matplotlib/__init__.py:1256: UserWarning:  This call to matplotlib.use() has no effect\n",
      "because the backend has already been chosen;\n",
      "matplotlib.use() must be called *before* pylab, matplotlib.pyplot,\n",
      "or matplotlib.backends is imported for the first time.\n",
      "\n",
      "  warnings.warn(_use_error_msg)\n",
      "/home/aksel/env/lib/python2.7/site-packages/pkg_resources.py:991: UserWarning: /home/aksel/.python-eggs is writable by group/others and vulnerable to attack when used with get_resource_filename. Consider a more secure location (set with .set_extraction_path or the PYTHON_EGG_CACHE environment variable).\n",
      "  warnings.warn(msg, UserWarning)\n"
     ]
    }
   ],
   "source": [
    "%load_ext autoreload\n",
    "%autoreload 2\n",
    "\n",
    "if 'sim' not in globals():\n",
    "    import os; os.chdir('..')\n",
    "import models\n",
    "import urbansim.sim.simulation as sim\n",
    "from urbansim.utils import misc"
   ]
  },
  {
   "cell_type": "markdown",
   "metadata": {
    "collapsed": false
   },
   "source": [
    "## Run the accessibility vars--needed for hedonic model later"
   ]
  },
  {
   "cell_type": "code",
   "execution_count": 5,
   "metadata": {
    "collapsed": false
   },
   "outputs": [
    {
     "name": "stdout",
     "output_type": "stream",
     "text": [
      "Running model 'neighborhood_vars'\n",
      "Computing accessibility variables\n",
      "Computing sum_residential_units\n",
      "Filling column building_type_id with value 1.0 (17692 values)\n",
      "Filling column residential_units with value 0 (17692 values)\n",
      "Filling column year_built with value 1964.0 (251406 values)\n",
      "Filling column non_residential_sqft with value 0 (34223 values)\n",
      "Filling column building_type_id with value 1.0 (17692 values)\n",
      "Filling column residential_units with value 0 (17692 values)\n",
      "Filling column year_built with value 1964.0 (251406 values)\n",
      "Filling column non_residential_sqft with value 0 (34223 values)\n",
      "Filling column shape_area with value 594.846801758 (77 values)\n",
      "Filling column zone_id with value 1178.0 (77 values)\n",
      "Filling column shape_area with value 594.846801758 (77 values)\n",
      "Filling column zone_id with value 1178.0 (77 values)\n",
      "Removed 2208 rows because they contain missing values\n",
      "Computing sum_residential_units_3500\n",
      "Filling column building_type_id with value 1.0 (17692 values)\n",
      "Filling column residential_units with value 0 (17692 values)\n",
      "Filling column year_built with value 1964.0 (251406 values)\n",
      "Filling column non_residential_sqft with value 0 (34223 values)\n",
      "Removed 2208 rows because they contain missing values\n",
      "Computing sum_nonresidential_units\n",
      "Filling column building_type_id with value 1.0 (17692 values)\n",
      "Filling column residential_units with value 0 (17692 values)\n",
      "Filling column year_built with value 1964.0 (251406 values)\n",
      "Filling column non_residential_sqft with value 0 (34223 values)\n",
      "Filling column building_type_id with value 1.0 (17692 values)\n",
      "Filling column residential_units with value 0 (17692 values)\n",
      "Filling column year_built with value 1964.0 (251406 values)\n",
      "Filling column non_residential_sqft with value 0 (34223 values)\n",
      "Filling column building_type_id with value 1.0 (17692 values)\n",
      "Filling column residential_units with value 0 (17692 values)\n",
      "Filling column year_built with value 1964.0 (251406 values)\n",
      "Filling column non_residential_sqft with value 0 (34223 values)\n",
      "Removed 2208 rows because they contain missing values\n",
      "Computing ave_sqft_per_unit\n",
      "Filling column building_type_id with value 1.0 (17692 values)\n",
      "Filling column residential_units with value 0 (17692 values)\n",
      "Filling column year_built with value 1964.0 (251406 values)\n",
      "Filling column non_residential_sqft with value 0 (34223 values)\n",
      "Filling column building_type_id with value 1.0 (17692 values)\n",
      "Filling column residential_units with value 0 (17692 values)\n",
      "Filling column year_built with value 1964.0 (251406 values)\n",
      "Filling column non_residential_sqft with value 0 (34223 values)\n",
      "Filling column building_type_id with value 1.0 (17692 values)\n",
      "Filling column residential_units with value 0 (17692 values)\n",
      "Filling column year_built with value 1964.0 (251406 values)\n",
      "Filling column non_residential_sqft with value 0 (34223 values)\n",
      "Removed 1712 rows because they contain missing values\n",
      "Computing ave_lot_size_per_unit\n",
      "Filling column building_type_id with value 1.0 (17692 values)\n",
      "Filling column residential_units with value 0 (17692 values)\n",
      "Filling column year_built with value 1964.0 (251406 values)\n",
      "Filling column non_residential_sqft with value 0 (34223 values)\n",
      "Filling column building_type_id with value 1.0 (17692 values)\n",
      "Filling column residential_units with value 0 (17692 values)\n",
      "Filling column year_built with value 1964.0 (251406 values)\n",
      "Filling column non_residential_sqft with value 0 (34223 values)\n",
      "Filling column shape_area with value 594.846801758 (77 values)\n",
      "Filling column zone_id with value 1178.0 (77 values)\n",
      "Filling column shape_area with value 594.846801758 (77 values)\n",
      "Filling column zone_id with value 1178.0 (77 values)\n",
      "Filling column shape_area with value 594.846801758 (77 values)\n",
      "Filling column zone_id with value 1178.0 (77 values)\n",
      "Filling column building_type_id with value 1.0 (17692 values)\n",
      "Filling column residential_units with value 0 (17692 values)\n",
      "Filling column year_built with value 1964.0 (251406 values)\n",
      "Filling column non_residential_sqft with value 0 (34223 values)\n",
      "Filling column shape_area with value 594.846801758 (77 values)\n",
      "Filling column zone_id with value 1178.0 (77 values)\n",
      "Removed 1712 rows because they contain missing values\n",
      "Computing population\n",
      "Filling column building_type_id with value 1.0 (17692 values)\n",
      "Filling column residential_units with value 0 (17692 values)\n",
      "Filling column year_built with value 1964.0 (251406 values)\n",
      "Filling column non_residential_sqft with value 0 (34223 values)\n",
      "Removed 14893 rows because they contain missing values\n",
      "Computing poor\n",
      "Removed 5338 rows because they contain missing values\n",
      "Computing renters\n",
      "Removed 6321 rows because they contain missing values\n",
      "Computing sfdu\n",
      "Filling column building_type_id with value 1.0 (17692 values)\n",
      "Filling column residential_units with value 0 (17692 values)\n",
      "Filling column year_built with value 1964.0 (251406 values)\n",
      "Filling column non_residential_sqft with value 0 (34223 values)\n",
      "Removed 756 rows because they contain missing values\n",
      "Computing ave_hhsize\n",
      "Removed 14893 rows because they contain missing values\n",
      "Computing jobs\n",
      "Filling column building_type_id with value 1.0 (17692 values)\n",
      "Filling column residential_units with value 0 (17692 values)\n",
      "Filling column year_built with value 1964.0 (251406 values)\n",
      "Filling column non_residential_sqft with value 0 (34223 values)\n",
      "Removed 160543 rows because they contain missing values\n",
      "Computing ave_income\n",
      "Removed 14893 rows because they contain missing values\n",
      "       sum_residential_units  sum_residential_units_3500  \\\n",
      "count          226060.000000               226060.000000   \n",
      "mean                5.958834                    7.634090   \n",
      "std                 1.771835                    1.728126   \n",
      "min                 0.000000                    0.000000   \n",
      "25%                 5.466717                    7.163172   \n",
      "50%                 6.410168                    8.041446   \n",
      "75%                 7.022991                    8.655249   \n",
      "max                10.139400                   11.155216   \n",
      "\n",
      "       sum_nonresidential_units  ave_sqft_per_unit  ave_lot_size_per_unit  \\\n",
      "count             226060.000000      226060.000000          226060.000000   \n",
      "mean                   6.375574           7.475901               9.275717   \n",
      "std                    1.897078           0.994322               1.841640   \n",
      "min                    0.000000           0.000000               0.000000   \n",
      "25%                    5.502492           7.298510               8.608797   \n",
      "50%                    6.626893           7.494027               8.974282   \n",
      "75%                    7.599994           7.804744               9.611005   \n",
      "max                   12.389406          12.584553              17.130289   \n",
      "\n",
      "          population           poor        renters           sfdu  \\\n",
      "count  226060.000000  226060.000000  226060.000000  226060.000000   \n",
      "mean        6.875187       5.382471       5.390653       5.227823   \n",
      "std         1.843632       1.831007       1.634187       1.751927   \n",
      "min         0.000000       0.000000       0.000000       0.000000   \n",
      "25%         6.422297       4.621889       5.001114       4.691234   \n",
      "50%         7.381936       5.726592       5.897194       5.869859   \n",
      "75%         7.982786       6.561566       6.401946       6.405856   \n",
      "max        10.437380       9.869967       8.485800       7.721668   \n",
      "\n",
      "          ave_hhsize           jobs     ave_income  \n",
      "count  226060.000000  226060.000000  226060.000000  \n",
      "mean        1.289122       5.947074      11.128654  \n",
      "std         0.201034       1.814533       1.443572  \n",
      "min         0.000000       0.000000       0.000000  \n",
      "25%         1.237874       5.132249      11.083780  \n",
      "50%         1.308943       6.179385      11.304494  \n",
      "75%         1.373056       7.078176      11.513910  \n",
      "max         2.525729      11.950737      13.043323  \n",
      "Time to execute model 'neighborhood_vars': 240.26s\n",
      "Total time to execute: 240.26s\n"
     ]
    }
   ],
   "source": [
    "sim.run([\"neighborhood_vars\"])"
   ]
  },
  {
   "cell_type": "markdown",
   "metadata": {},
   "source": [
    "## Hedonic Estimation\n",
    "Supposedly we need to run the estimation to get building-level price vars"
   ]
  },
  {
   "cell_type": "code",
   "execution_count": 104,
   "metadata": {
    "collapsed": false
   },
   "outputs": [
    {
     "name": "stdout",
     "output_type": "stream",
     "text": [
      "Filling column shape_area with value 594.846801758 (77 values)\n",
      "Filling column zone_id with value 1178.0 (77 values)\n",
      "Filling column shape_area with value 594.846801758 (77 values)\n",
      "Filling column zone_id with value 1178.0 (77 values)\n",
      "Filling column shape_area with value 594.846801758 (77 values)\n",
      "Filling column zone_id with value 1178.0 (77 values)\n",
      "Running model 'rsh_estimate'\n",
      "Filling column shape_area with value 594.846801758 (77 values)\n",
      "Filling column zone_id with value 1178.0 (77 values)\n",
      "Filling column shape_area with value 594.846801758 (77 values)\n",
      "Filling column zone_id with value 1178.0 (77 values)\n",
      "Filling column shape_area with value 594.846801758 (77 values)\n",
      "Filling column zone_id with value 1178.0 (77 values)\n",
      "Filling column shape_area with value 594.846801758 (77 values)\n",
      "Filling column zone_id with value 1178.0 (77 values)\n",
      "                              OLS Regression Results                              \n",
      "==================================================================================\n",
      "Dep. Variable:     np.log(sale_price_flt)   R-squared:                       0.664\n",
      "Model:                                OLS   Adj. R-squared:                  0.664\n",
      "Method:                     Least Squares   F-statistic:                 7.553e+04\n",
      "Date:                    Sat, 02 May 2015   Prob (F-statistic):               0.00\n",
      "Time:                            22:28:32   Log-Likelihood:                -63339.\n",
      "No. Observations:                  190868   AIC:                         1.267e+05\n",
      "Df Residuals:                      190862   BIC:                         1.268e+05\n",
      "Df Model:                               5                                         \n",
      "================================================================================================\n",
      "                                   coef    std err          t      P>|t|      [95.0% Conf. Int.]\n",
      "------------------------------------------------------------------------------------------------\n",
      "Intercept                       -3.4606      0.038    -90.281      0.000        -3.536    -3.385\n",
      "I(year_built < 1940)[T.True]     0.0149      0.003      5.606      0.000         0.010     0.020\n",
      "sum_residential_units           -0.0410      0.001    -34.732      0.000        -0.043    -0.039\n",
      "ave_income                       0.1817      0.004     45.162      0.000         0.174     0.190\n",
      "autoPeakTotal                    0.0758      0.001     63.620      0.000         0.073     0.078\n",
      "np.log1p(empirical_price)        1.1233      0.003    331.319      0.000         1.117     1.130\n",
      "==============================================================================\n",
      "Omnibus:                    17221.312   Durbin-Watson:                   1.238\n",
      "Prob(Omnibus):                  0.000   Jarque-Bera (JB):            90563.537\n",
      "Skew:                          -0.281   Prob(JB):                         0.00\n",
      "Kurtosis:                       6.328   Cond. No.                         915.\n",
      "==============================================================================\n",
      "Time to execute model 'rsh_estimate': 37.13s\n",
      "Total time to execute: 37.19s\n"
     ]
    }
   ],
   "source": [
    "## write out results to file. We might use those later to push values to the buildings table. \n",
    "## Currently `residential_price` is all zeroes.\n",
    "\n",
    "sim.run([\"rsh_estimate\"],data_out='rsh_estimate.h5')"
   ]
  },
  {
   "cell_type": "code",
   "execution_count": 105,
   "metadata": {
    "collapsed": false
   },
   "outputs": [
    {
     "name": "stdout",
     "output_type": "stream",
     "text": [
      "Filling column building_type_id with value 1.0 (17692 values)\n",
      "Filling column residential_units with value 0 (17692 values)\n",
      "Filling column year_built with value 1964.0 (251406 values)\n",
      "Filling column non_residential_sqft with value 0 (34223 values)\n",
      "Filling column building_type_id with value 1.0 (17692 values)\n",
      "Filling column residential_units with value 0 (17692 values)\n",
      "Filling column year_built with value 1964.0 (251406 values)\n",
      "Filling column non_residential_sqft with value 0 (34223 values)\n",
      "Filling column building_type_id with value 1.0 (17692 values)\n",
      "Filling column residential_units with value 0 (17692 values)\n",
      "Filling column year_built with value 1964.0 (251406 values)\n",
      "Filling column non_residential_sqft with value 0 (34223 values)\n",
      "Running model 'rsh_simulate'\n",
      "Filling column building_type_id with value 1.0 (17692 values)\n",
      "Filling column residential_units with value 0 (17692 values)\n",
      "Filling column year_built with value 1964.0 (251406 values)\n",
      "Filling column non_residential_sqft with value 0 (34223 values)\n",
      "Filling column shape_area with value 594.846801758 (77 values)\n",
      "Filling column zone_id with value 1178.0 (77 values)\n",
      "count    1916359.000000\n",
      "mean         328.442340\n",
      "std          177.901591\n",
      "min           20.141170\n",
      "25%          177.087883\n",
      "50%          278.487396\n",
      "75%          420.486978\n",
      "max         1260.157873\n",
      "dtype: float64\n",
      "Time to execute model 'rsh_simulate': 28.01s\n",
      "Total time to execute: 28.14s\n"
     ]
    }
   ],
   "source": [
    "sim.run([\"rsh_simulate\"],data_out='rsh_simulate.h5')"
   ]
  },
  {
   "cell_type": "markdown",
   "metadata": {},
   "source": [
    "## STEP 1: Get main tables"
   ]
  },
  {
   "cell_type": "code",
   "execution_count": 107,
   "metadata": {
    "collapsed": false
   },
   "outputs": [
    {
     "name": "stdout",
     "output_type": "stream",
     "text": [
      "Filling column building_type_id with value 1.0 (17692 values)\n",
      "Filling column residential_units with value 0 (17692 values)\n",
      "Filling column year_built with value 1964.0 (251406 values)\n",
      "Filling column non_residential_sqft with value 0 (34223 values)\n"
     ]
    }
   ],
   "source": [
    "#parcels = sim.get_table('parcels')#.to_frame()\n",
    "buildings = sim.get_table('buildings')#.to_frame()"
   ]
  },
  {
   "cell_type": "code",
   "execution_count": 53,
   "metadata": {
    "collapsed": false
   },
   "outputs": [
    {
     "name": "stdout",
     "output_type": "stream",
     "text": [
      "0.05\n"
     ]
    }
   ],
   "source": [
    "parcels = sim.get_table('parcels')#.to_frame()\n",
    "buildings = sim.get_table('buildings')#.to_frame()"
   ]
  },
  {
   "cell_type": "code",
   "execution_count": 84,
   "metadata": {
    "collapsed": true
   },
   "outputs": [],
   "source": [
    "from urbansim.developer import sqftproforma\n",
    "settings = sim.settings\n",
    "USE = \"residential\"\n",
    "QUANTILE=.5"
   ]
  },
  {
   "cell_type": "markdown",
   "metadata": {},
   "source": [
    "## STEP 2: Calculate generic revenue for inclusionary units affordable to 50% AMI\n",
    "Below follows a simple calculation of revenue assuming units are built for 2-person households earning 50% of AMI pay 30% of their income on housing."
   ]
  },
  {
   "cell_type": "code",
   "execution_count": 94,
   "metadata": {
    "collapsed": false
   },
   "outputs": [
    {
     "data": {
      "text/html": [
       "<div style=\"max-height:1000px;max-width:1500px;overflow:auto;\">\n",
       "<table border=\"1\" class=\"dataframe\">\n",
       "  <thead>\n",
       "    <tr style=\"text-align: right;\">\n",
       "      <th></th>\n",
       "      <th>Unnamed: 0</th>\n",
       "      <th>1-Person</th>\n",
       "      <th>2-Person</th>\n",
       "      <th>3-Person</th>\n",
       "      <th>4-Person</th>\n",
       "      <th>5-Person</th>\n",
       "      <th>6-Person</th>\n",
       "      <th>7-Person</th>\n",
       "      <th>8-Person</th>\n",
       "    </tr>\n",
       "    <tr>\n",
       "      <th>fips</th>\n",
       "      <th></th>\n",
       "      <th></th>\n",
       "      <th></th>\n",
       "      <th></th>\n",
       "      <th></th>\n",
       "      <th></th>\n",
       "      <th></th>\n",
       "      <th></th>\n",
       "      <th></th>\n",
       "    </tr>\n",
       "  </thead>\n",
       "  <tbody>\n",
       "    <tr>\n",
       "      <th>1 </th>\n",
       "      <td> 0</td>\n",
       "      <td> 805.00</td>\n",
       "      <td>  920.0</td>\n",
       "      <td> 1035.00</td>\n",
       "      <td> 1150.00</td>\n",
       "      <td> 1242.50</td>\n",
       "      <td> 1335.00</td>\n",
       "      <td> 1426.25</td>\n",
       "      <td> 1518.75</td>\n",
       "    </tr>\n",
       "    <tr>\n",
       "      <th>13</th>\n",
       "      <td> 1</td>\n",
       "      <td> 805.00</td>\n",
       "      <td>  920.0</td>\n",
       "      <td> 1035.00</td>\n",
       "      <td> 1150.00</td>\n",
       "      <td> 1242.50</td>\n",
       "      <td> 1335.00</td>\n",
       "      <td> 1426.25</td>\n",
       "      <td> 1518.75</td>\n",
       "    </tr>\n",
       "    <tr>\n",
       "      <th>85</th>\n",
       "      <td> 2</td>\n",
       "      <td> 892.50</td>\n",
       "      <td> 1020.0</td>\n",
       "      <td> 1147.50</td>\n",
       "      <td> 1273.75</td>\n",
       "      <td> 1376.25</td>\n",
       "      <td> 1478.75</td>\n",
       "      <td> 1580.00</td>\n",
       "      <td> 1682.50</td>\n",
       "    </tr>\n",
       "    <tr>\n",
       "      <th>55</th>\n",
       "      <td> 3</td>\n",
       "      <td> 721.25</td>\n",
       "      <td>  825.0</td>\n",
       "      <td>  927.50</td>\n",
       "      <td> 1030.00</td>\n",
       "      <td> 1112.50</td>\n",
       "      <td> 1195.00</td>\n",
       "      <td> 1277.50</td>\n",
       "      <td> 1360.00</td>\n",
       "    </tr>\n",
       "    <tr>\n",
       "      <th>81</th>\n",
       "      <td> 4</td>\n",
       "      <td> 968.75</td>\n",
       "      <td> 1107.5</td>\n",
       "      <td> 1246.25</td>\n",
       "      <td> 1383.75</td>\n",
       "      <td> 1495.00</td>\n",
       "      <td> 1606.25</td>\n",
       "      <td> 1716.25</td>\n",
       "      <td> 1827.50</td>\n",
       "    </tr>\n",
       "  </tbody>\n",
       "</table>\n",
       "</div>"
      ],
      "text/plain": [
       "      Unnamed: 0  1-Person  2-Person  3-Person  4-Person  5-Person  6-Person  \\\n",
       "fips                                                                           \n",
       "1              0    805.00     920.0   1035.00   1150.00   1242.50   1335.00   \n",
       "13             1    805.00     920.0   1035.00   1150.00   1242.50   1335.00   \n",
       "85             2    892.50    1020.0   1147.50   1273.75   1376.25   1478.75   \n",
       "55             3    721.25     825.0    927.50   1030.00   1112.50   1195.00   \n",
       "81             4    968.75    1107.5   1246.25   1383.75   1495.00   1606.25   \n",
       "\n",
       "      7-Person  8-Person  \n",
       "fips                      \n",
       "1      1426.25   1518.75  \n",
       "13     1426.25   1518.75  \n",
       "85     1580.00   1682.50  \n",
       "55     1277.50   1360.00  \n",
       "81     1716.25   1827.50  "
      ]
     },
     "execution_count": 94,
     "metadata": {},
     "output_type": "execute_result"
    }
   ],
   "source": [
    "## for this lookup to work, the table needs to be registered in bayarea_urbansim/datasources.py\n",
    "\n",
    "bmr_prices = sim.get_table('HUD_below_market_rate_rent')\n",
    "bmr_prices.to_frame().head()"
   ]
  },
  {
   "cell_type": "markdown",
   "metadata": {},
   "source": [
    "## For now, county-level HUD 2-person households are used as a placeholder rent target assumption"
   ]
  },
  {
   "cell_type": "code",
   "execution_count": 67,
   "metadata": {
    "collapsed": false
   },
   "outputs": [
    {
     "data": {
      "text/plain": [
       "{1: 920.0,\n",
       " 13: 920.0,\n",
       " 41: 1107.5,\n",
       " 55: 825.0,\n",
       " 75: 1107.5,\n",
       " 81: 1107.5,\n",
       " 85: 1020.0,\n",
       " 95: 767.5,\n",
       " 97: 770.0}"
      ]
     },
     "execution_count": 67,
     "metadata": {},
     "output_type": "execute_result"
    }
   ],
   "source": [
    "rev_per_mo_per_unit = bmr_prices['2-Person'].to_dict()\n",
    "rev_per_mo_per_unit"
   ]
  },
  {
   "cell_type": "markdown",
   "metadata": {},
   "source": [
    "## We need to translate the revenue per unit to a per square footage measure, in yearly terms\n",
    "For this we need some translator constants. We grab from the model settings:"
   ]
  },
  {
   "cell_type": "code",
   "execution_count": 87,
   "metadata": {
    "collapsed": false
   },
   "outputs": [
    {
     "name": "stdout",
     "output_type": "stream",
     "text": [
      "1000\n",
      "0.05\n"
     ]
    }
   ],
   "source": [
    "SQFT_PER_UNIT = settings['residential_developer']['min_unit_size']\n",
    "CAP_RATE = sqftproforma.SqFtProForma().config.cap_rate\n",
    "print SQFT_PER_UNIT\n",
    "print CAP_RATE"
   ]
  },
  {
   "cell_type": "markdown",
   "metadata": {},
   "source": [
    "## Get county-level expected sales *yearly revenue per sq ft* for the inclusionary square feet. \n",
    "\n",
    "Watch out for possible built-in conversions btw rent/own valuations--here we just assume sales.\n",
    "\n",
    "TODO: we should use the existing rent / own conversion interface instead.\n",
    "\n",
    "This yields values around $265 per square foot, give or take, maybe about a third to a half\n",
    "of the market rate estimates currently, depending on the place. This seems low, but not crazy."
   ]
  },
  {
   "cell_type": "code",
   "execution_count": 95,
   "metadata": {
    "collapsed": false
   },
   "outputs": [
    {
     "data": {
      "text/plain": [
       "<matplotlib.text.Text at 0x7f6de0fe6410>"
      ]
     },
     "execution_count": 95,
     "metadata": {},
     "output_type": "execute_result"
    },
    {
     "data": {
      "image/png": "[encoded data removed]",
      "text/plain": [
       "<matplotlib.figure.Figure at 0x7f6df111fd10>"
      ]
     },
     "metadata": {},
     "output_type": "display_data"
    }
   ],
   "source": [
    "rev_per_sqft = pd.Series(rev_per_mo_per_unit).\\\n",
    "    apply(lambda x: x/ SQFT_PER_UNIT*12 / CAP_RATE).to_dict()\n",
    "\n",
    "## plot it    \n",
    "pd.Series(rev_per_sqft).plot(kind='bar');title('Inclusionary Sales Price per SF\\nBy County',size=20)"
   ]
  },
  {
   "cell_type": "markdown",
   "metadata": {},
   "source": [
    "## STEP 3: Push these county-level BMR revenue per sq ft estimates (generic) to the parcel level, going through county-to-city-to-parcel-level relationships.\n",
    "\n",
    "\n",
    "Note that since the HUD numbers came at the county level, all parcels in the same county will\n",
    "have the same estimated revenue per square foot for any inclusionary unit.\n",
    "\n",
    "TODO: a bunch of these temporary variables we probably don't need to store in the parcel table--we just need them temporarily, so they could just be series.\n"
   ]
  },
  {
   "cell_type": "code",
   "execution_count": 90,
   "metadata": {
    "collapsed": false
   },
   "outputs": [
    {
     "data": {
      "text/plain": [
       "{1: 1, 7: 13, 21: 41, 28: 55, 38: 75, 41: 81, 43: 85, 48: 95, 49: 97}"
      ]
     },
     "execution_count": 90,
     "metadata": {},
     "output_type": "execute_result"
    }
   ],
   "source": [
    "## fetch a translator of arbitrary county ids in urbansim to FIPS codes, since many official data sources use FIPS codes\n",
    "county_id_to_fips=sim.get_injectable('county_id_to_fips')\n",
    "county_id_to_fips"
   ]
  },
  {
   "cell_type": "code",
   "execution_count": 92,
   "metadata": {
    "collapsed": false
   },
   "outputs": [
    {
     "data": {
      "text/plain": [
       "parcel_id\n",
       "1            265.8\n",
       "2            265.8\n",
       "3            265.8\n",
       "4            265.8\n",
       "5            265.8\n",
       "Name: incl_price_per_sf, dtype: float64"
      ]
     },
     "execution_count": 92,
     "metadata": {},
     "output_type": "execute_result"
    }
   ],
   "source": [
    "## translate county id to FIPS, then map this to FIPS-level revenue per square foot calculated earlier. \n",
    "\n",
    "parcels['incl_price_per_sf'] = parcels.county_id.fillna(-1).\\\n",
    "astype(np.int64).map(county_id_to_fips).map(rev_per_sqft)\n",
    "\n",
    "parcels['incl_price_per_sf'].head()"
   ]
  },
  {
   "cell_type": "markdown",
   "metadata": {},
   "source": [
    "## STEP 4: Do the actual parcel-level weighting of revenue\n",
    "\n",
    "First we take building-level `residential_price` data for residential buildings, take the median in the zone, and then push this number back to the parcel level. \n",
    "\n",
    "TODO: res hedonic model needs to be run and simulated first to get a buildings table output; otherwise zeroes will result. This does not currently happen, so `residential_price` is 0 across the board. This needs to be fixed before any practical use and evaluation."
   ]
  },
  {
   "cell_type": "code",
   "execution_count": 108,
   "metadata": {
    "collapsed": false
   },
   "outputs": [
    {
     "data": {
      "text/plain": [
       "count    1796149\n",
       "mean           0\n",
       "std            0\n",
       "min            0\n",
       "25%            0\n",
       "50%            0\n",
       "75%            0\n",
       "max            0\n",
       "dtype: float64"
      ]
     },
     "execution_count": 108,
     "metadata": {},
     "output_type": "execute_result"
    }
   ],
   "source": [
    "buildings.residential_price[buildings.general_type == \"Residential\"].describe()"
   ]
  },
  {
   "cell_type": "code",
   "execution_count": 93,
   "metadata": {
    "collapsed": false
   },
   "outputs": [
    {
     "name": "stdout",
     "output_type": "stream",
     "text": [
      "Filling column shape_area with value 594.846801758 (77 values)\n",
      "Filling column zone_id with value 1178.0 (77 values)\n"
     ]
    }
   ],
   "source": [
    "## so in theory this should return meaningful values, but `residential_price` is full of zeroes. \n",
    "## Fletcher or Mike probably have a more 'live' version of the buildings table. \n",
    "## Or we could just merge hedonic estimates on manually. Anyway, we continue the exercise just to get the bindings set up.\n",
    "\n",
    "market_rate = misc.reindex(buildings.residential_price[buildings.general_type == \"Residential\"].\\\n",
    "                    groupby(buildings.zone_id).quantile(QUANTILE),\n",
    "                    sim.get_table('parcels').zone_id) "
   ]
  },
  {
   "cell_type": "markdown",
   "metadata": {},
   "source": [
    "Then we grab jurisdiction-level data on presence of inclusionary programs, for which purpose we have a lookup table / injectable called `inclusionary_rates` with a row for each `jurisdiction_id`. What are rates in these jurisdictions (at the city level)?\n",
    "Note that these are placeholder values--we don't have a compilation of such rates, but ABAG is going to be collecting them over the summer. For now, we just assumed 12 percent for jurisdictions we know have SOME inclusionary program. This needs to be checked."
   ]
  },
  {
   "cell_type": "code",
   "execution_count": 97,
   "metadata": {
    "collapsed": false
   },
   "outputs": [
    {
     "data": {
      "text/plain": [
       "97     0.12\n",
       "98     0.12\n",
       "99     0.00\n",
       "100    0.00\n",
       "101    0.12\n",
       "dtype: float64"
      ]
     },
     "execution_count": 97,
     "metadata": {},
     "output_type": "execute_result"
    }
   ],
   "source": [
    "## load inclusionary rates, indexed on the 100+ jurisdiction ids. Whatever these jurisdictions actually are used to be stored on Paris.\n",
    "inclusionary_rates = sim.get_injectable('inclusionary_rates')\n",
    "s_inclusionary_rates = pd.Series(inclusionary_rates)\n",
    "\n",
    "s_inclusionary_rates.tail()"
   ]
  },
  {
   "cell_type": "markdown",
   "metadata": {},
   "source": [
    "Then, flag cities w inclusionary rates larger than 0, and send this values to parcels."
   ]
  },
  {
   "cell_type": "code",
   "execution_count": 99,
   "metadata": {
    "collapsed": false
   },
   "outputs": [
    {
     "data": {
      "text/plain": [
       "parcel_id\n",
       "1            0.12\n",
       "2            0.12\n",
       "3            0.12\n",
       "4            0.12\n",
       "5            0.12\n",
       "Name: incl_rate, dtype: float64"
      ]
     },
     "execution_count": 99,
     "metadata": {},
     "output_type": "execute_result"
    }
   ],
   "source": [
    "city_has_inclusionary = s_inclusionary_rates[s_inclusionary_rates>0].to_dict()\n",
    "parcels['incl_rate'] = parcels.city_id.fillna(-1).astype(np.int64).map(city_has_inclusionary).fillna(0)\n",
    "\n",
    "# the first 153,000 parcels are San Francisco ones, so they all have 12% incl rates\n",
    "parcels['incl_rate'].head()  "
   ]
  },
  {
   "cell_type": "markdown",
   "metadata": {},
   "source": [
    "## Result: A weighted avg of the market rate and inclusionary hsg constrained revenue assumption\n",
    "Assuming a small-ish inclusionary rate, the number should be close to, but lower than, the market rate sales revenue per sf. This should be safe to calculate even for jurisdictions with no inclusionary policy--jurisdictions with zero inclusionary will just have a zero in the first term, and 100% of the market rate in the second."
   ]
  },
  {
   "cell_type": "code",
   "execution_count": 80,
   "metadata": {
    "collapsed": false
   },
   "outputs": [
    {
     "data": {
      "text/plain": [
       "parcel_id\n",
       "1            31.896\n",
       "2            31.896\n",
       "3            31.896\n",
       "4            31.896\n",
       "5            31.896\n",
       "6            31.896\n",
       "7            31.896\n",
       "8            31.896\n",
       "9            31.896\n",
       "10           31.896\n",
       "11           31.896\n",
       "12           31.896\n",
       "13           31.896\n",
       "14           31.896\n",
       "15           31.896\n",
       "...\n",
       "2079320     NaN\n",
       "2079321     NaN\n",
       "2079322     NaN\n",
       "2079323     NaN\n",
       "2079324     NaN\n",
       "2079325     NaN\n",
       "2079326     NaN\n",
       "2079327     NaN\n",
       "2079328     NaN\n",
       "2079329     NaN\n",
       "2079330     NaN\n",
       "2079331     NaN\n",
       "2079332     NaN\n",
       "2079333     NaN\n",
       "2079334     NaN\n",
       "Length: 2020794, dtype: float64"
      ]
     },
     "execution_count": 80,
     "metadata": {},
     "output_type": "execute_result"
    }
   ],
   "source": [
    "## eg. .12           * 332.25                       + (1-.12)                 * 800\n",
    "parcels['incl_rate'] * parcels['incl_price_per_sf'] + (1-parcels['incl_rate'])* market_rate"
   ]
  },
  {
   "cell_type": "markdown",
   "metadata": {
    "collapsed": false
   },
   "source": [
    "## Further work needed:\n",
    "* What this does is mainly change the cost structure of feasibility, meaning they are slightly less profitable in jurisdictions with inclsionary requirements. Note that there is no treatment of the incidence of this 'tax'--perhaps it is passed on to the consumer as much as being borne by the developer--if so, cost shifters should adjust overall prices levels for jurisdictions with such policies on the books. It goes without saying that the market rate prices need to NOT be all zeroes as they currently exist in my version of the buildings table. It may just be a matter of writing the output from the hedonic estimation to the table in the main datastore.\n",
    "* Secondly, units actually produced in these jurisdictions need to be flagged and accounted for so they are visible in the `household location choice` model. A decision needs to be made as to the nature of this flag. It may be desirable to move to a unit-level representation--each unit becomes a row in a table and is maintained during the simulation, with appropriate attributes describing size, deed-restricted affordability, tenure, etc. Currently, some of this lives in the `buildings` table. If such a migration of unit of analysis were to happen, the hedonic model would need to leave deed restricted units alone.\n",
    "* Third, there is no real distinction between owner and renter units. That may be desirable, even if Costa-Hawkins means less rental affordable units produced."
   ]
  },
  {
   "cell_type": "code",
   "execution_count": null,
   "metadata": {
    "collapsed": true
   },
   "outputs": [],
   "source": []
  }
 ],
 "metadata": {
  "kernelspec": {
   "display_name": "Python 2",
   "language": "python",
   "name": "python2"
  },
  "language_info": {
   "codemirror_mode": {
    "name": "ipython",
    "version": 2
   },
   "file_extension": ".py",
   "mimetype": "text/x-python",
   "name": "python",
   "nbconvert_exporter": "python",
   "pygments_lexer": "ipython2",
   "version": "2.7.9"
  }
 },
 "nbformat": 4,
 "nbformat_minor": 0
}
