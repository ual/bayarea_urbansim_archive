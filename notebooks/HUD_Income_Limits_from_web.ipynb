{
 "cells": [
  {
   "cell_type": "code",
   "execution_count": 10,
   "metadata": {
    "collapsed": false
   },
   "outputs": [
    {
     "name": "stdout",
     "output_type": "stream",
     "text": [
      "Populating the interactive namespace from numpy and matplotlib\n"
     ]
    }
   ],
   "source": [
    "import pandas as pd\n",
    "import numpy as np\n",
    "import seaborn as sns\n",
    "import matplotlib.pyplot as plt\n",
    "import matplotlib.cm as cm, matplotlib.font_manager as fm\n",
    "sns.set(style=\"darkgrid\")\n",
    "%pylab inline"
   ]
  },
  {
   "cell_type": "markdown",
   "metadata": {},
   "source": [
    "## Getting HUD data on 50% income limits\n",
    "We will use these limits to calculate affordable rents at those levels\n"
   ]
  },
  {
   "cell_type": "code",
   "execution_count": 24,
   "metadata": {
    "collapsed": false
   },
   "outputs": [
    {
     "data": {
      "text/plain": [
       "{'001': 'Alameda',\n",
       " '013': 'Contra Costa',\n",
       " '041': 'Marin',\n",
       " '055': 'Napa',\n",
       " '075': 'San Francisco',\n",
       " '081': 'San Mateo',\n",
       " '085': 'Santa Clara',\n",
       " '095': 'Solano',\n",
       " '097': 'Sonoma'}"
      ]
     },
     "execution_count": 24,
     "metadata": {},
     "output_type": "execute_result"
    }
   ],
   "source": [
    "bayareafips_full ={'001':'Alameda', '013':'Contra Costa', '041':'Marin', '055':'Napa', '075':'San Francisco', '081':'San Mateo', '085':'Santa Clara', '097':'Sonoma', '095':'Solano'}\n",
    "bayareafips_full"
   ]
  },
  {
   "cell_type": "code",
   "execution_count": 12,
   "metadata": {
    "collapsed": false
   },
   "outputs": [],
   "source": [
    "bayareafips_full ={'001':'ala', '013':'cnc', '041':'mar', '055':'nap', '075':'sfr', '081':'smt', '085':'scl', '097':'son', '095':'sol'}\n",
    "bayareafips_full\n",
    "inv_map = {v: k for k, v in bayareafips_full.items()}"
   ]
  },
  {
   "cell_type": "code",
   "execution_count": 13,
   "metadata": {
    "collapsed": false
   },
   "outputs": [
    {
     "data": {
      "text/plain": [
       "{'ala': '001',\n",
       " 'cnc': '013',\n",
       " 'mar': '041',\n",
       " 'nap': '055',\n",
       " 'scl': '085',\n",
       " 'sfr': '075',\n",
       " 'smt': '081',\n",
       " 'sol': '095',\n",
       " 'son': '097'}"
      ]
     },
     "execution_count": 13,
     "metadata": {},
     "output_type": "execute_result"
    }
   ],
   "source": [
    "inv_map"
   ]
  },
  {
   "cell_type": "markdown",
   "metadata": {},
   "source": [
    "## Get data from HUD page\n",
    "This is not an API call but a direct parsing of the HTML. A bit clunky and probably not future stable."
   ]
  },
  {
   "cell_type": "code",
   "execution_count": 14,
   "metadata": {
    "collapsed": false
   },
   "outputs": [],
   "source": [
    "out = []\n",
    "for fips in bayareafips_full.keys():\n",
    "#for fips in ['085']:   \n",
    "    url='http://www.huduser.org/portal/datasets/il/il2014/2014IlCalc.odn?fips=06{}99999&type=county&year=2014&yy=14&statefp=6'.format(fips)\n",
    "    t=pd.read_html(url)\n",
    "    d = {}\n",
    "    \n",
    "    ## strangely, a few counties are structured slightly differently, \n",
    "    ## so the data is located at a different offsets. This could totally change.\n",
    "    \n",
    "    if fips in ['085','097','095']:\n",
    "        d[fips]=t[5]\n",
    "    else:\n",
    "        d[fips]=t[4]\n",
    "    out.append(d)"
   ]
  },
  {
   "cell_type": "code",
   "execution_count": 35,
   "metadata": {
    "collapsed": false
   },
   "outputs": [
    {
     "data": {
      "text/html": [
       "<div style=\"max-height:1000px;max-width:1500px;overflow:auto;\">\n",
       "<table border=\"1\" class=\"dataframe\">\n",
       "  <thead>\n",
       "    <tr style=\"text-align: right;\">\n",
       "      <th></th>\n",
       "      <th>0</th>\n",
       "      <th>1</th>\n",
       "      <th>2</th>\n",
       "      <th>3</th>\n",
       "    </tr>\n",
       "  </thead>\n",
       "  <tbody>\n",
       "    <tr>\n",
       "      <th>0</th>\n",
       "      <td> FY2013 4 Person VLIL</td>\n",
       "      <td>                        Change</td>\n",
       "      <td>                     Comparison</td>\n",
       "      <td> Final FY2014 4 Person VLIL</td>\n",
       "    </tr>\n",
       "    <tr>\n",
       "      <th>1</th>\n",
       "      <td>              $39,250</td>\n",
       "      <td> $38,450 / $39,250 - 1 = -0.02</td>\n",
       "      <td> Is -0.02 &lt; -0.05 or &gt; .05?  No</td>\n",
       "      <td>                    $38,450</td>\n",
       "    </tr>\n",
       "  </tbody>\n",
       "</table>\n",
       "</div>"
      ],
      "text/plain": [
       "                      0                              1  \\\n",
       "0  FY2013 4 Person VLIL                         Change   \n",
       "1               $39,250  $38,450 / $39,250 - 1 = -0.02   \n",
       "\n",
       "                                2                           3  \n",
       "0                      Comparison  Final FY2014 4 Person VLIL  \n",
       "1  Is -0.02 < -0.05 or > .05?  No                     $38,450  "
      ]
     },
     "execution_count": 35,
     "metadata": {},
     "output_type": "execute_result"
    }
   ],
   "source": [
    "t[4]"
   ]
  },
  {
   "cell_type": "code",
   "execution_count": 16,
   "metadata": {
    "collapsed": false
   },
   "outputs": [
    {
     "data": {
      "text/html": [
       "<div style=\"max-height:1000px;max-width:1500px;overflow:auto;\">\n",
       "<table border=\"1\" class=\"dataframe\">\n",
       "  <thead>\n",
       "    <tr style=\"text-align: right;\">\n",
       "      <th></th>\n",
       "      <th>001</th>\n",
       "      <th>013</th>\n",
       "      <th>085</th>\n",
       "      <th>055</th>\n",
       "      <th>081</th>\n",
       "      <th>075</th>\n",
       "      <th>095</th>\n",
       "      <th>041</th>\n",
       "      <th>097</th>\n",
       "    </tr>\n",
       "  </thead>\n",
       "  <tbody>\n",
       "    <tr>\n",
       "      <th>1-Person</th>\n",
       "      <td> $32,200</td>\n",
       "      <td> $32,200</td>\n",
       "      <td> $35,700</td>\n",
       "      <td> $28,850</td>\n",
       "      <td> $38,750</td>\n",
       "      <td> $38,750</td>\n",
       "      <td> $26,850</td>\n",
       "      <td> $38,750</td>\n",
       "      <td> $26,950</td>\n",
       "    </tr>\n",
       "    <tr>\n",
       "      <th>2-Person</th>\n",
       "      <td> $36,800</td>\n",
       "      <td> $36,800</td>\n",
       "      <td> $40,800</td>\n",
       "      <td> $33,000</td>\n",
       "      <td> $44,300</td>\n",
       "      <td> $44,300</td>\n",
       "      <td> $30,700</td>\n",
       "      <td> $44,300</td>\n",
       "      <td> $30,800</td>\n",
       "    </tr>\n",
       "    <tr>\n",
       "      <th>3-Person</th>\n",
       "      <td> $41,400</td>\n",
       "      <td> $41,400</td>\n",
       "      <td> $45,900</td>\n",
       "      <td> $37,100</td>\n",
       "      <td> $49,850</td>\n",
       "      <td> $49,850</td>\n",
       "      <td> $34,550</td>\n",
       "      <td> $49,850</td>\n",
       "      <td> $34,650</td>\n",
       "    </tr>\n",
       "    <tr>\n",
       "      <th>4-Person</th>\n",
       "      <td> $46,000</td>\n",
       "      <td> $46,000</td>\n",
       "      <td> $50,950</td>\n",
       "      <td> $41,200</td>\n",
       "      <td> $55,350</td>\n",
       "      <td> $55,350</td>\n",
       "      <td> $38,350</td>\n",
       "      <td> $55,350</td>\n",
       "      <td> $38,450</td>\n",
       "    </tr>\n",
       "    <tr>\n",
       "      <th>5-Person</th>\n",
       "      <td> $49,700</td>\n",
       "      <td> $49,700</td>\n",
       "      <td> $55,050</td>\n",
       "      <td> $44,500</td>\n",
       "      <td> $59,800</td>\n",
       "      <td> $59,800</td>\n",
       "      <td> $41,450</td>\n",
       "      <td> $59,800</td>\n",
       "      <td> $41,550</td>\n",
       "    </tr>\n",
       "    <tr>\n",
       "      <th>6-Person</th>\n",
       "      <td> $53,400</td>\n",
       "      <td> $53,400</td>\n",
       "      <td> $59,150</td>\n",
       "      <td> $47,800</td>\n",
       "      <td> $64,250</td>\n",
       "      <td> $64,250</td>\n",
       "      <td> $44,500</td>\n",
       "      <td> $64,250</td>\n",
       "      <td> $44,650</td>\n",
       "    </tr>\n",
       "    <tr>\n",
       "      <th>7-Person</th>\n",
       "      <td> $57,050</td>\n",
       "      <td> $57,050</td>\n",
       "      <td> $63,200</td>\n",
       "      <td> $51,100</td>\n",
       "      <td> $68,650</td>\n",
       "      <td> $68,650</td>\n",
       "      <td> $47,600</td>\n",
       "      <td> $68,650</td>\n",
       "      <td> $47,700</td>\n",
       "    </tr>\n",
       "    <tr>\n",
       "      <th>8-Person</th>\n",
       "      <td> $60,750</td>\n",
       "      <td> $60,750</td>\n",
       "      <td> $67,300</td>\n",
       "      <td> $54,400</td>\n",
       "      <td> $73,100</td>\n",
       "      <td> $73,100</td>\n",
       "      <td> $50,650</td>\n",
       "      <td> $73,100</td>\n",
       "      <td> $50,800</td>\n",
       "    </tr>\n",
       "  </tbody>\n",
       "</table>\n",
       "</div>"
      ],
      "text/plain": [
       "              001      013      085      055      081      075      095  \\\n",
       "1-Person  $32,200  $32,200  $35,700  $28,850  $38,750  $38,750  $26,850   \n",
       "2-Person  $36,800  $36,800  $40,800  $33,000  $44,300  $44,300  $30,700   \n",
       "3-Person  $41,400  $41,400  $45,900  $37,100  $49,850  $49,850  $34,550   \n",
       "4-Person  $46,000  $46,000  $50,950  $41,200  $55,350  $55,350  $38,350   \n",
       "5-Person  $49,700  $49,700  $55,050  $44,500  $59,800  $59,800  $41,450   \n",
       "6-Person  $53,400  $53,400  $59,150  $47,800  $64,250  $64,250  $44,500   \n",
       "7-Person  $57,050  $57,050  $63,200  $51,100  $68,650  $68,650  $47,600   \n",
       "8-Person  $60,750  $60,750  $67,300  $54,400  $73,100  $73,100  $50,650   \n",
       "\n",
       "              041      097  \n",
       "1-Person  $38,750  $26,950  \n",
       "2-Person  $44,300  $30,800  \n",
       "3-Person  $49,850  $34,650  \n",
       "4-Person  $55,350  $38,450  \n",
       "5-Person  $59,800  $41,550  \n",
       "6-Person  $64,250  $44,650  \n",
       "7-Person  $68,650  $47,700  \n",
       "8-Person  $73,100  $50,800  "
      ]
     },
     "execution_count": 16,
     "metadata": {},
     "output_type": "execute_result"
    }
   ],
   "source": [
    "cols = ['{}-Person'.format(col) for col in range(1,9)]\n",
    "\n",
    "rows=[]\n",
    "\n",
    "## out is our list of county-level datasets\n",
    "for v in out:\n",
    "    k=v.values()[0]\n",
    "    if k.shape==(8,9):\n",
    "        \n",
    "        ## get rid of the junk rows up top\n",
    "        k.rename(columns=k.ix[2,:].to_dict(),inplace=True)\n",
    "        #k=k.ix[k['Income Limit Information']=='FY 2014 FINAL VLIL',cols]\n",
    "        k=k.ix[7,cols]\n",
    "        #df=pd.DataFrame(data={'area':k.keys(),'values':k},index=cols)\n",
    "        s=pd.Series(k,name=v.keys()[0])\n",
    "        rows.append(s)\n",
    "    elif k.shape==(2,9):\n",
    "        k.rename(columns=k.ix[0,:].to_dict(),inplace=True)\n",
    "        k=k.ix[1,cols]\n",
    "        s=pd.Series(k,name=v.keys()[0])\n",
    "        rows.append(s)\n",
    "    else:\n",
    "        print k\n",
    "        #k.rename(columns=k.ix[0,:].to_dict(),inplace=True)\n",
    "        #k=k.ix[1,cols]\n",
    "        #s=pd.Series(k,name=v.keys()[0])\n",
    "        #rows.append(s)\n",
    "    \n",
    "limits = pd.concat(rows,axis=1)\n",
    "limits"
   ]
  },
  {
   "cell_type": "code",
   "execution_count": 37,
   "metadata": {
    "collapsed": false
   },
   "outputs": [
    {
     "data": {
      "text/html": [
       "<div style=\"max-height:1000px;max-width:1500px;overflow:auto;\">\n",
       "<table border=\"1\" class=\"dataframe\">\n",
       "  <thead>\n",
       "    <tr style=\"text-align: right;\">\n",
       "      <th></th>\n",
       "      <th>1-Person</th>\n",
       "      <th>2-Person</th>\n",
       "      <th>3-Person</th>\n",
       "      <th>4-Person</th>\n",
       "      <th>5-Person</th>\n",
       "      <th>6-Person</th>\n",
       "      <th>7-Person</th>\n",
       "      <th>8-Person</th>\n",
       "    </tr>\n",
       "  </thead>\n",
       "  <tbody>\n",
       "    <tr>\n",
       "      <th>001</th>\n",
       "      <td> 805.00</td>\n",
       "      <td>  920.0</td>\n",
       "      <td> 1035.00</td>\n",
       "      <td> 1150.00</td>\n",
       "      <td> 1242.50</td>\n",
       "      <td> 1335.00</td>\n",
       "      <td> 1426.25</td>\n",
       "      <td> 1518.75</td>\n",
       "    </tr>\n",
       "    <tr>\n",
       "      <th>013</th>\n",
       "      <td> 805.00</td>\n",
       "      <td>  920.0</td>\n",
       "      <td> 1035.00</td>\n",
       "      <td> 1150.00</td>\n",
       "      <td> 1242.50</td>\n",
       "      <td> 1335.00</td>\n",
       "      <td> 1426.25</td>\n",
       "      <td> 1518.75</td>\n",
       "    </tr>\n",
       "    <tr>\n",
       "      <th>085</th>\n",
       "      <td> 892.50</td>\n",
       "      <td> 1020.0</td>\n",
       "      <td> 1147.50</td>\n",
       "      <td> 1273.75</td>\n",
       "      <td> 1376.25</td>\n",
       "      <td> 1478.75</td>\n",
       "      <td> 1580.00</td>\n",
       "      <td> 1682.50</td>\n",
       "    </tr>\n",
       "    <tr>\n",
       "      <th>055</th>\n",
       "      <td> 721.25</td>\n",
       "      <td>  825.0</td>\n",
       "      <td>  927.50</td>\n",
       "      <td> 1030.00</td>\n",
       "      <td> 1112.50</td>\n",
       "      <td> 1195.00</td>\n",
       "      <td> 1277.50</td>\n",
       "      <td> 1360.00</td>\n",
       "    </tr>\n",
       "    <tr>\n",
       "      <th>081</th>\n",
       "      <td> 968.75</td>\n",
       "      <td> 1107.5</td>\n",
       "      <td> 1246.25</td>\n",
       "      <td> 1383.75</td>\n",
       "      <td> 1495.00</td>\n",
       "      <td> 1606.25</td>\n",
       "      <td> 1716.25</td>\n",
       "      <td> 1827.50</td>\n",
       "    </tr>\n",
       "    <tr>\n",
       "      <th>075</th>\n",
       "      <td> 968.75</td>\n",
       "      <td> 1107.5</td>\n",
       "      <td> 1246.25</td>\n",
       "      <td> 1383.75</td>\n",
       "      <td> 1495.00</td>\n",
       "      <td> 1606.25</td>\n",
       "      <td> 1716.25</td>\n",
       "      <td> 1827.50</td>\n",
       "    </tr>\n",
       "    <tr>\n",
       "      <th>095</th>\n",
       "      <td> 671.25</td>\n",
       "      <td>  767.5</td>\n",
       "      <td>  863.75</td>\n",
       "      <td>  958.75</td>\n",
       "      <td> 1036.25</td>\n",
       "      <td> 1112.50</td>\n",
       "      <td> 1190.00</td>\n",
       "      <td> 1266.25</td>\n",
       "    </tr>\n",
       "    <tr>\n",
       "      <th>041</th>\n",
       "      <td> 968.75</td>\n",
       "      <td> 1107.5</td>\n",
       "      <td> 1246.25</td>\n",
       "      <td> 1383.75</td>\n",
       "      <td> 1495.00</td>\n",
       "      <td> 1606.25</td>\n",
       "      <td> 1716.25</td>\n",
       "      <td> 1827.50</td>\n",
       "    </tr>\n",
       "    <tr>\n",
       "      <th>097</th>\n",
       "      <td> 673.75</td>\n",
       "      <td>  770.0</td>\n",
       "      <td>  866.25</td>\n",
       "      <td>  961.25</td>\n",
       "      <td> 1038.75</td>\n",
       "      <td> 1116.25</td>\n",
       "      <td> 1192.50</td>\n",
       "      <td> 1270.00</td>\n",
       "    </tr>\n",
       "  </tbody>\n",
       "</table>\n",
       "</div>"
      ],
      "text/plain": [
       "     1-Person  2-Person  3-Person  4-Person  5-Person  6-Person  7-Person  \\\n",
       "001    805.00     920.0   1035.00   1150.00   1242.50   1335.00   1426.25   \n",
       "013    805.00     920.0   1035.00   1150.00   1242.50   1335.00   1426.25   \n",
       "085    892.50    1020.0   1147.50   1273.75   1376.25   1478.75   1580.00   \n",
       "055    721.25     825.0    927.50   1030.00   1112.50   1195.00   1277.50   \n",
       "081    968.75    1107.5   1246.25   1383.75   1495.00   1606.25   1716.25   \n",
       "075    968.75    1107.5   1246.25   1383.75   1495.00   1606.25   1716.25   \n",
       "095    671.25     767.5    863.75    958.75   1036.25   1112.50   1190.00   \n",
       "041    968.75    1107.5   1246.25   1383.75   1495.00   1606.25   1716.25   \n",
       "097    673.75     770.0    866.25    961.25   1038.75   1116.25   1192.50   \n",
       "\n",
       "     8-Person  \n",
       "001   1518.75  \n",
       "013   1518.75  \n",
       "085   1682.50  \n",
       "055   1360.00  \n",
       "081   1827.50  \n",
       "075   1827.50  \n",
       "095   1266.25  \n",
       "041   1827.50  \n",
       "097   1270.00  "
      ]
     },
     "execution_count": 37,
     "metadata": {},
     "output_type": "execute_result"
    }
   ],
   "source": [
    "## flip the axes\n",
    "limits=limits.T\n",
    "\n",
    "## clean the dollar signs and commas\n",
    "limits=limits.apply(lambda x: x.str.replace('$','').str.replace(',','').astype(np.int64),axis=1)\n",
    "\n",
    "## take 30% of these income limits--that is our max rent targets\n",
    "limits_30pct_rent=limits.apply(lambda x: x*.3/12,axis=1)\n",
    "limits_30pct_rent"
   ]
  },
  {
   "cell_type": "code",
   "execution_count": 38,
   "metadata": {
    "collapsed": false
   },
   "outputs": [
    {
     "data": {
      "image/png": "[encoded data removed]",
      "text/plain": [
       "<matplotlib.figure.Figure at 0x7f2390747610>"
      ]
     },
     "metadata": {},
     "output_type": "display_data"
    }
   ],
   "source": [
    "ax = limits_30pct_rent.T.plot(kind='bar',subplots=True,figsize=[16,16]);\n",
    "plt.tight_layout()"
   ]
  },
  {
   "cell_type": "code",
   "execution_count": 39,
   "metadata": {
    "collapsed": false
   },
   "outputs": [],
   "source": [
    "limits_30pct_rent.reset_index().to_csv('/home/aksel/env/ual/bayarea_urbansim/data/hud_50_pct_AMI_rent.csv')"
   ]
  },
  {
   "cell_type": "code",
   "execution_count": 40,
   "metadata": {
    "collapsed": false
   },
   "outputs": [
    {
     "data": {
      "text/plain": [
       "1107.5"
      ]
     },
     "execution_count": 40,
     "metadata": {},
     "output_type": "execute_result"
    }
   ],
   "source": [
    "limits_30pct_rent.to_dict()['2-Person']['075']"
   ]
  },
  {
   "cell_type": "code",
   "execution_count": 41,
   "metadata": {
    "collapsed": false
   },
   "outputs": [],
   "source": [
    "limits_30pct_rent.reset_index(inplace=True)"
   ]
  },
  {
   "cell_type": "code",
   "execution_count": 42,
   "metadata": {
    "collapsed": false
   },
   "outputs": [
    {
     "data": {
      "text/html": [
       "<div style=\"max-height:1000px;max-width:1500px;overflow:auto;\">\n",
       "<table border=\"1\" class=\"dataframe\">\n",
       "  <thead>\n",
       "    <tr style=\"text-align: right;\">\n",
       "      <th></th>\n",
       "      <th>index</th>\n",
       "      <th>1-Person</th>\n",
       "      <th>2-Person</th>\n",
       "      <th>3-Person</th>\n",
       "      <th>4-Person</th>\n",
       "      <th>5-Person</th>\n",
       "      <th>6-Person</th>\n",
       "      <th>7-Person</th>\n",
       "      <th>8-Person</th>\n",
       "    </tr>\n",
       "  </thead>\n",
       "  <tbody>\n",
       "    <tr>\n",
       "      <th>0</th>\n",
       "      <td> 001</td>\n",
       "      <td> 805.00</td>\n",
       "      <td>  920.0</td>\n",
       "      <td> 1035.00</td>\n",
       "      <td> 1150.00</td>\n",
       "      <td> 1242.50</td>\n",
       "      <td> 1335.00</td>\n",
       "      <td> 1426.25</td>\n",
       "      <td> 1518.75</td>\n",
       "    </tr>\n",
       "    <tr>\n",
       "      <th>1</th>\n",
       "      <td> 013</td>\n",
       "      <td> 805.00</td>\n",
       "      <td>  920.0</td>\n",
       "      <td> 1035.00</td>\n",
       "      <td> 1150.00</td>\n",
       "      <td> 1242.50</td>\n",
       "      <td> 1335.00</td>\n",
       "      <td> 1426.25</td>\n",
       "      <td> 1518.75</td>\n",
       "    </tr>\n",
       "    <tr>\n",
       "      <th>2</th>\n",
       "      <td> 085</td>\n",
       "      <td> 892.50</td>\n",
       "      <td> 1020.0</td>\n",
       "      <td> 1147.50</td>\n",
       "      <td> 1273.75</td>\n",
       "      <td> 1376.25</td>\n",
       "      <td> 1478.75</td>\n",
       "      <td> 1580.00</td>\n",
       "      <td> 1682.50</td>\n",
       "    </tr>\n",
       "    <tr>\n",
       "      <th>3</th>\n",
       "      <td> 055</td>\n",
       "      <td> 721.25</td>\n",
       "      <td>  825.0</td>\n",
       "      <td>  927.50</td>\n",
       "      <td> 1030.00</td>\n",
       "      <td> 1112.50</td>\n",
       "      <td> 1195.00</td>\n",
       "      <td> 1277.50</td>\n",
       "      <td> 1360.00</td>\n",
       "    </tr>\n",
       "    <tr>\n",
       "      <th>4</th>\n",
       "      <td> 081</td>\n",
       "      <td> 968.75</td>\n",
       "      <td> 1107.5</td>\n",
       "      <td> 1246.25</td>\n",
       "      <td> 1383.75</td>\n",
       "      <td> 1495.00</td>\n",
       "      <td> 1606.25</td>\n",
       "      <td> 1716.25</td>\n",
       "      <td> 1827.50</td>\n",
       "    </tr>\n",
       "    <tr>\n",
       "      <th>5</th>\n",
       "      <td> 075</td>\n",
       "      <td> 968.75</td>\n",
       "      <td> 1107.5</td>\n",
       "      <td> 1246.25</td>\n",
       "      <td> 1383.75</td>\n",
       "      <td> 1495.00</td>\n",
       "      <td> 1606.25</td>\n",
       "      <td> 1716.25</td>\n",
       "      <td> 1827.50</td>\n",
       "    </tr>\n",
       "    <tr>\n",
       "      <th>6</th>\n",
       "      <td> 095</td>\n",
       "      <td> 671.25</td>\n",
       "      <td>  767.5</td>\n",
       "      <td>  863.75</td>\n",
       "      <td>  958.75</td>\n",
       "      <td> 1036.25</td>\n",
       "      <td> 1112.50</td>\n",
       "      <td> 1190.00</td>\n",
       "      <td> 1266.25</td>\n",
       "    </tr>\n",
       "    <tr>\n",
       "      <th>7</th>\n",
       "      <td> 041</td>\n",
       "      <td> 968.75</td>\n",
       "      <td> 1107.5</td>\n",
       "      <td> 1246.25</td>\n",
       "      <td> 1383.75</td>\n",
       "      <td> 1495.00</td>\n",
       "      <td> 1606.25</td>\n",
       "      <td> 1716.25</td>\n",
       "      <td> 1827.50</td>\n",
       "    </tr>\n",
       "    <tr>\n",
       "      <th>8</th>\n",
       "      <td> 097</td>\n",
       "      <td> 673.75</td>\n",
       "      <td>  770.0</td>\n",
       "      <td>  866.25</td>\n",
       "      <td>  961.25</td>\n",
       "      <td> 1038.75</td>\n",
       "      <td> 1116.25</td>\n",
       "      <td> 1192.50</td>\n",
       "      <td> 1270.00</td>\n",
       "    </tr>\n",
       "  </tbody>\n",
       "</table>\n",
       "</div>"
      ],
      "text/plain": [
       "  index  1-Person  2-Person  3-Person  4-Person  5-Person  6-Person  7-Person  \\\n",
       "0   001    805.00     920.0   1035.00   1150.00   1242.50   1335.00   1426.25   \n",
       "1   013    805.00     920.0   1035.00   1150.00   1242.50   1335.00   1426.25   \n",
       "2   085    892.50    1020.0   1147.50   1273.75   1376.25   1478.75   1580.00   \n",
       "3   055    721.25     825.0    927.50   1030.00   1112.50   1195.00   1277.50   \n",
       "4   081    968.75    1107.5   1246.25   1383.75   1495.00   1606.25   1716.25   \n",
       "5   075    968.75    1107.5   1246.25   1383.75   1495.00   1606.25   1716.25   \n",
       "6   095    671.25     767.5    863.75    958.75   1036.25   1112.50   1190.00   \n",
       "7   041    968.75    1107.5   1246.25   1383.75   1495.00   1606.25   1716.25   \n",
       "8   097    673.75     770.0    866.25    961.25   1038.75   1116.25   1192.50   \n",
       "\n",
       "   8-Person  \n",
       "0   1518.75  \n",
       "1   1518.75  \n",
       "2   1682.50  \n",
       "3   1360.00  \n",
       "4   1827.50  \n",
       "5   1827.50  \n",
       "6   1266.25  \n",
       "7   1827.50  \n",
       "8   1270.00  "
      ]
     },
     "execution_count": 42,
     "metadata": {},
     "output_type": "execute_result"
    }
   ],
   "source": [
    "limits_30pct_rent"
   ]
  },
  {
   "cell_type": "code",
   "execution_count": 43,
   "metadata": {
    "collapsed": true
   },
   "outputs": [],
   "source": [
    "## stack it to long form--this might be easier to use for lookup purposes\n",
    "limits_30pct_rent_lng=pd.melt(limits_30pct_rent,id_vars='index')\n",
    "limits_30pct_rent_lng['county']=limits_30pct_rent_lng['index'].map(bayareafips_full)\n",
    "limits_30pct_rent_lng.set_index(['index','county','variable'],inplace=True)\n",
    "limits_30pct_rent_lng.sort_index(inplace=True)"
   ]
  },
  {
   "cell_type": "code",
   "execution_count": 44,
   "metadata": {
    "collapsed": false
   },
   "outputs": [
    {
     "data": {
      "text/html": [
       "<div style=\"max-height:1000px;max-width:1500px;overflow:auto;\">\n",
       "<table border=\"1\" class=\"dataframe\">\n",
       "  <thead>\n",
       "    <tr style=\"text-align: right;\">\n",
       "      <th></th>\n",
       "      <th></th>\n",
       "      <th></th>\n",
       "      <th>value</th>\n",
       "    </tr>\n",
       "    <tr>\n",
       "      <th>index</th>\n",
       "      <th>county</th>\n",
       "      <th>variable</th>\n",
       "      <th></th>\n",
       "    </tr>\n",
       "  </thead>\n",
       "  <tbody>\n",
       "    <tr>\n",
       "      <th rowspan=\"8\" valign=\"top\">055</th>\n",
       "      <th rowspan=\"8\" valign=\"top\">Napa</th>\n",
       "      <th>1-Person</th>\n",
       "      <td>  721.25</td>\n",
       "    </tr>\n",
       "    <tr>\n",
       "      <th>2-Person</th>\n",
       "      <td>  825.00</td>\n",
       "    </tr>\n",
       "    <tr>\n",
       "      <th>3-Person</th>\n",
       "      <td>  927.50</td>\n",
       "    </tr>\n",
       "    <tr>\n",
       "      <th>4-Person</th>\n",
       "      <td> 1030.00</td>\n",
       "    </tr>\n",
       "    <tr>\n",
       "      <th>5-Person</th>\n",
       "      <td> 1112.50</td>\n",
       "    </tr>\n",
       "    <tr>\n",
       "      <th>6-Person</th>\n",
       "      <td> 1195.00</td>\n",
       "    </tr>\n",
       "    <tr>\n",
       "      <th>7-Person</th>\n",
       "      <td> 1277.50</td>\n",
       "    </tr>\n",
       "    <tr>\n",
       "      <th>8-Person</th>\n",
       "      <td> 1360.00</td>\n",
       "    </tr>\n",
       "  </tbody>\n",
       "</table>\n",
       "</div>"
      ],
      "text/plain": [
       "                         value\n",
       "index county variable         \n",
       "055   Napa   1-Person   721.25\n",
       "             2-Person   825.00\n",
       "             3-Person   927.50\n",
       "             4-Person  1030.00\n",
       "             5-Person  1112.50\n",
       "             6-Person  1195.00\n",
       "             7-Person  1277.50\n",
       "             8-Person  1360.00"
      ]
     },
     "execution_count": 44,
     "metadata": {},
     "output_type": "execute_result"
    }
   ],
   "source": [
    "idx = pd.IndexSlice\n",
    "limits_30pct_rent_lng.loc[idx[:,['Napa'],:],:]"
   ]
  },
  {
   "cell_type": "markdown",
   "metadata": {},
   "source": [
    "# sandbox\n",
    "\n",
    "## From SFMOH MOH"
   ]
  },
  {
   "cell_type": "code",
   "execution_count": 27,
   "metadata": {
    "collapsed": false
   },
   "outputs": [
    {
     "data": {
      "image/png": "[encoded data removed]",
      "text/plain": [
       "<matplotlib.figure.Figure at 0x7ff0d29f3ad0>"
      ]
     },
     "metadata": {},
     "output_type": "display_data"
    }
   ],
   "source": [
    "# http://sf-moh.org/modules/showdocument.aspx?documentid=7572\n",
    "# 2014 MAXIMUM MONTHLY RENT BY UNIT TYPE With and Without Utilities - for MOH singlefamily programs\n",
    "# 55th percentile selected\n",
    "## actual data--every other number is FMR w/o utilities. We parse with a slicer next.\n",
    "l=[700,665 ,934,899 ,1069,1022 ,1201,1139 ,1335,1252 ,1441,1331 ,1549,1412]\n",
    "sfmoh = pd.DataFrame(data={'w_utils':l[slice(0, 14, 2)],'wo_utils':l[slice(1, 14, 2)]},\n",
    "             index=['SRO','STUDIO','1 BDRM','2 BDRM','3 BDRM','4 BDRM','5 BDRM']\n",
    "             )\n",
    "sfmoh.plot(kind='bar',subplots=False);"
   ]
  },
  {
   "cell_type": "code",
   "execution_count": null,
   "metadata": {
    "collapsed": false
   },
   "outputs": [],
   "source": []
  }
 ],
 "metadata": {
  "kernelspec": {
   "display_name": "Python 2",
   "language": "python",
   "name": "python2"
  },
  "language_info": {
   "codemirror_mode": {
    "name": "ipython",
    "version": 2
   },
   "file_extension": ".py",
   "mimetype": "text/x-python",
   "name": "python",
   "nbconvert_exporter": "python",
   "pygments_lexer": "ipython2",
   "version": "2.7.9"
  }
 },
 "nbformat": 4,
 "nbformat_minor": 0
}
