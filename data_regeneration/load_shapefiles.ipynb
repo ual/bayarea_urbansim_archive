{
 "metadata": {
  "name": "",
  "signature": "sha256:fa022f3213897b368771a515f6f6e22cae4a6a310d1a34c73849a3c8b90fe465"
 },
 "nbformat": 3,
 "nbformat_minor": 0,
 "worksheets": [
  {
   "cells": [
    {
     "cell_type": "code",
     "collapsed": false,
     "input": [
      "from spandex import utils"
     ],
     "language": "python",
     "metadata": {},
     "outputs": [],
     "prompt_number": 1
    },
    {
     "cell_type": "code",
     "collapsed": false,
     "input": [
      "data_dir = 'C:\\\\mtc\\\\data'\n",
      "config_dir = 'C:\\\\mtc\\\\bayarea_urbansim\\\\data_regeneration\\\\configs'\n",
      "\n",
      "shapefiles = {'parcels' : \n",
      "                  {'contra_costa':('CAD_AO_ParcelPoly_0410.shp', 2227),\n",
      "                  'contra_costa_pt':('CAD_AO_ParcelPoints_int0410.shp', 2227),\n",
      "                  'marin':('Marin_2006_CWP.shp', 2872),\n",
      "                  'napa':('Napa_Parcels.shp', 2226),\n",
      "                  'solano':('Parcels.shp', 2226),\n",
      "                  'sonoma':('PAR_PARCELS.shp', 2226),\n",
      "                  },\n",
      "              'boundaries' :\n",
      "                  {'blocks':('block10_gba.shp', 26910),\n",
      "                   'block_groups':('blockgroup10_gba.shp',26910),\n",
      "                  },\n",
      "              'controls' : \n",
      "                  {'block_controls':('block10_gba.shp', 26910),\n",
      "                   'block_group_controls':('blockgroup10_gba.shp',26910),\n",
      "                  },\n",
      "              }"
     ],
     "language": "python",
     "metadata": {},
     "outputs": [],
     "prompt_number": 2
    },
    {
     "cell_type": "code",
     "collapsed": false,
     "input": [
      "utils.load_multiple_shp(shapefiles, data_dir, config_dir)"
     ],
     "language": "python",
     "metadata": {},
     "outputs": [
      {
       "output_type": "stream",
       "stream": "stdout",
       "text": [
        "Loading block_groups.\n",
        "Loading blocks."
       ]
      },
      {
       "output_type": "stream",
       "stream": "stdout",
       "text": [
        "\n",
        "Loading sonoma."
       ]
      },
      {
       "output_type": "stream",
       "stream": "stdout",
       "text": [
        "\n",
        "Loading solano."
       ]
      },
      {
       "output_type": "stream",
       "stream": "stdout",
       "text": [
        "\n",
        "Loading contra_costa_pt."
       ]
      },
      {
       "output_type": "stream",
       "stream": "stdout",
       "text": [
        "\n",
        "Loading marin."
       ]
      },
      {
       "output_type": "stream",
       "stream": "stdout",
       "text": [
        "\n",
        "Loading contra_costa."
       ]
      },
      {
       "output_type": "stream",
       "stream": "stdout",
       "text": [
        "\n",
        "Loading napa."
       ]
      },
      {
       "output_type": "stream",
       "stream": "stdout",
       "text": [
        "\n",
        "Loading block_controls."
       ]
      },
      {
       "output_type": "stream",
       "stream": "stdout",
       "text": [
        "\n",
        "Loading block_group_controls."
       ]
      },
      {
       "output_type": "stream",
       "stream": "stdout",
       "text": [
        "\n"
       ]
      }
     ],
     "prompt_number": 3
    }
   ],
   "metadata": {}
  }
 ]
}